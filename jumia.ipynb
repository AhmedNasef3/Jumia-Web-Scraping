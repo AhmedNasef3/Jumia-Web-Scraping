{
 "cells": [
  {
   "cell_type": "code",
   "execution_count": null,
   "id": "e1ee906a",
   "metadata": {},
   "outputs": [],
   "source": [
    "from requests_html import HTMLSession\n",
    "import csv\n",
    "import time\n",
    "\n",
    "session=HTMLSession()\n",
    "\n",
    "id=1\n",
    "\n",
    "with open('Jumia_products.csv','w',newline='') as file:\n",
    "    \n",
    "    writer=csv.writer(file)\n",
    "    writer.writerow(['id','product_name','price','reviews_count','avg_rate'])\n",
    "    \n",
    "\n",
    "\n",
    "    for x in range(1,51):\n",
    "        print(f\"page number: {x}\")\n",
    "        page=session.get(f\"https://www.jumia.com.eg/all-products/?page={x}#catalog-listing\")\n",
    "\n",
    "        all_products=page.html.xpath(\"/html/body/div[1]/main/div[2]/div[3]/section/div[1]\",first=True)\n",
    "\n",
    "        for product in all_products.absolute_links:\n",
    "            if 'login' not in product:\n",
    "                product_page=session.get(product)\n",
    "                if product_page!=None:\n",
    "                    try:\n",
    "                        product_name=product_page.html.find('h1.-pbxs',first=True).text\n",
    "                    except:\n",
    "                        product_name=''\n",
    "\n",
    "                    try:\n",
    "                        product_price=product_page.html.find('span.-prxs',first=True).text\n",
    "                    except:\n",
    "                        product_price=''\n",
    "\n",
    "                    try:\n",
    "                        reviews=product_page.html.find('p.-pts',first=True).text\n",
    "                    except:\n",
    "                        reviews=''\n",
    "\n",
    "                    try:\n",
    "                        avg_rate=product_page.html.find('div.-fs29',first=True).text\n",
    "                    except:\n",
    "                        avg_rate=''\n",
    "\n",
    "                    writer.writerow([id,product_name,product_price,reviews,avg_rate])\n",
    "                    id+=1\n",
    "       \n"
   ]
  },
  {
   "cell_type": "code",
   "execution_count": null,
   "id": "02a0a70b-438b-418e-b02e-a3ee5c69b540",
   "metadata": {},
   "outputs": [],
   "source": []
  }
 ],
 "metadata": {
  "kernelspec": {
   "display_name": "Python 3 (ipykernel)",
   "language": "python",
   "name": "python3"
  },
  "language_info": {
   "codemirror_mode": {
    "name": "ipython",
    "version": 3
   },
   "file_extension": ".py",
   "mimetype": "text/x-python",
   "name": "python",
   "nbconvert_exporter": "python",
   "pygments_lexer": "ipython3",
   "version": "3.10.9"
  }
 },
 "nbformat": 4,
 "nbformat_minor": 5
}
